{
    "nbformat_minor": 2, 
    "cells": [
        {
            "source": "### Segmenting and Clustering Neighborhoods in Toronto", 
            "cell_type": "markdown", 
            "metadata": {}
        }, 
        {
            "source": "from urllib.request import urlopen\nfrom bs4 import BeautifulSoup\nimport requests\nimport csv\nimport pandas as pd", 
            "cell_type": "code", 
            "metadata": {}, 
            "outputs": [], 
            "execution_count": 188
        }, 
        {
            "source": "### Creating a instance of the data URL", 
            "cell_type": "markdown", 
            "metadata": {}
        }, 
        {
            "source": "base_url = 'https://en.wikipedia.org/wiki/List_of_postal_codes_of_Canada:_M'", 
            "cell_type": "code", 
            "metadata": {}, 
            "outputs": [], 
            "execution_count": 189
        }, 
        {
            "source": "with urlopen(base_url) as html_file:\n    soup = BeautifulSoup(html_file, 'lxml')", 
            "cell_type": "code", 
            "metadata": {}, 
            "outputs": [], 
            "execution_count": 190
        }, 
        {
            "source": "#### Getting the header of the table", 
            "cell_type": "markdown", 
            "metadata": {}
        }, 
        {
            "source": "match = soup.find('table', class_='wikitable sortable')\n\ncsvData = []\ncsvHeader = []\ncsvBodyItem = []\n\nfor header in match.find_all('th'):\n    csvHeader.append(header.text); \n    \nprint(csvHeader)\n", 
            "cell_type": "code", 
            "metadata": {}, 
            "outputs": [
                {
                    "output_type": "stream", 
                    "name": "stdout", 
                    "text": "['Postcode', 'Borough', 'Neighbourhood\\n']\n"
                }
            ], 
            "execution_count": 191
        }, 
        {
            "source": "#### Creating a CSV file and save the values", 
            "cell_type": "markdown", 
            "metadata": {}
        }, 
        {
            "source": "csv_file = open('ListPostalCodesCanada.csv', 'w')\ncsv_writer = csv.writer(csv_file)\ncsv_writer.writerow(csvHeader)    \n\nfor body in match.find_all('tr'):    \n    for itemBody in body.find_all('td'):\n        csvBodyItem.append(itemBody.text)\n\n    csv_writer.writerow(csvBodyItem)\n    csvBodyItem = []\ncsv_file.close()", 
            "cell_type": "code", 
            "metadata": {}, 
            "outputs": [], 
            "execution_count": 192
        }, 
        {
            "source": "#### Convert the CSV file in pandas table", 
            "cell_type": "markdown", 
            "metadata": {}
        }, 
        {
            "source": "listPostCode = pd.read_csv(\"ListPostalCodesCanada.csv\", delimiter = ',')\nfilterNotAss = listPostCode['Borough'] != 'Not assigned'\nfinalList = listPostCode[filterNotAss]\nfinalList = finalList.groupby(['Postcode', 'Borough'])['Neighbourhood\\n'].agg([('Neighbourhood\\n', ', '.join)]).reset_index()\nfinalList = finalList.replace('\\n','',regex=True)\n", 
            "cell_type": "code", 
            "metadata": {}, 
            "outputs": [], 
            "execution_count": 320
        }, 
        {
            "source": "#### Listing the header of the pandas dataframe ", 
            "cell_type": "markdown", 
            "metadata": {}
        }, 
        {
            "source": "finalList.head()", 
            "cell_type": "code", 
            "metadata": {}, 
            "outputs": [
                {
                    "execution_count": 319, 
                    "output_type": "execute_result", 
                    "data": {
                        "text/plain": "  Postcode      Borough                         Neighbourhood\\n\n0      M1B  Scarborough                          Rouge, Malvern\n1      M1C  Scarborough  Highland Creek, Rouge Hill, Port Union\n2      M1E  Scarborough       Guildwood, Morningside, West Hill\n3      M1G  Scarborough                                  Woburn\n4      M1H  Scarborough                               Cedarbrae", 
                        "text/html": "<div>\n<style scoped>\n    .dataframe tbody tr th:only-of-type {\n        vertical-align: middle;\n    }\n\n    .dataframe tbody tr th {\n        vertical-align: top;\n    }\n\n    .dataframe thead th {\n        text-align: right;\n    }\n</style>\n<table border=\"1\" class=\"dataframe\">\n  <thead>\n    <tr style=\"text-align: right;\">\n      <th></th>\n      <th>Postcode</th>\n      <th>Borough</th>\n      <th>Neighbourhood</th>\n    </tr>\n  </thead>\n  <tbody>\n    <tr>\n      <th>0</th>\n      <td>M1B</td>\n      <td>Scarborough</td>\n      <td>Rouge, Malvern</td>\n    </tr>\n    <tr>\n      <th>1</th>\n      <td>M1C</td>\n      <td>Scarborough</td>\n      <td>Highland Creek, Rouge Hill, Port Union</td>\n    </tr>\n    <tr>\n      <th>2</th>\n      <td>M1E</td>\n      <td>Scarborough</td>\n      <td>Guildwood, Morningside, West Hill</td>\n    </tr>\n    <tr>\n      <th>3</th>\n      <td>M1G</td>\n      <td>Scarborough</td>\n      <td>Woburn</td>\n    </tr>\n    <tr>\n      <th>4</th>\n      <td>M1H</td>\n      <td>Scarborough</td>\n      <td>Cedarbrae</td>\n    </tr>\n  </tbody>\n</table>\n</div>"
                    }, 
                    "metadata": {}
                }
            ], 
            "execution_count": 319
        }, 
        {
            "source": "#### Shape the data frame ", 
            "cell_type": "markdown", 
            "metadata": {}
        }, 
        {
            "source": "finalList.shape", 
            "cell_type": "code", 
            "metadata": {}, 
            "outputs": [
                {
                    "execution_count": 318, 
                    "output_type": "execute_result", 
                    "data": {
                        "text/plain": "(103, 3)"
                    }, 
                    "metadata": {}
                }
            ], 
            "execution_count": 318
        }, 
        {
            "source": "", 
            "cell_type": "code", 
            "metadata": {}, 
            "outputs": [], 
            "execution_count": null
        }, 
        {
            "source": "", 
            "cell_type": "code", 
            "metadata": {}, 
            "outputs": [], 
            "execution_count": 143
        }, 
        {
            "source": "", 
            "cell_type": "code", 
            "metadata": {}, 
            "outputs": [], 
            "execution_count": null
        }
    ], 
    "metadata": {
        "kernelspec": {
            "display_name": "Python 3.5", 
            "name": "python3", 
            "language": "python"
        }, 
        "language_info": {
            "mimetype": "text/x-python", 
            "nbconvert_exporter": "python", 
            "version": "3.5.5", 
            "name": "python", 
            "file_extension": ".py", 
            "pygments_lexer": "ipython3", 
            "codemirror_mode": {
                "version": 3, 
                "name": "ipython"
            }
        }
    }, 
    "nbformat": 4
}